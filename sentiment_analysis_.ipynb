{
  "nbformat": 4,
  "nbformat_minor": 0,
  "metadata": {
    "colab": {
      "name": "Untitled8.ipynb",
      "provenance": [],
      "authorship_tag": "ABX9TyOH13ashHzEsQjhtw03yzUW",
      "include_colab_link": true
    },
    "kernelspec": {
      "name": "python3",
      "display_name": "Python 3"
    }
  },
  "cells": [
    {
      "cell_type": "markdown",
      "metadata": {
        "id": "view-in-github",
        "colab_type": "text"
      },
      "source": [
        "<a href=\"https://colab.research.google.com/github/waynesid/sentiment_analysis/blob/master/sentiment_analysis_.ipynb\" target=\"_parent\"><img src=\"https://colab.research.google.com/assets/colab-badge.svg\" alt=\"Open In Colab\"/></a>"
      ]
    },
    {
      "cell_type": "code",
      "metadata": {
        "id": "373hzbAU3_4P",
        "colab": {
          "base_uri": "https://localhost:8080/",
          "height": 51
        },
        "outputId": "07bcdc1d-f2e8-4fca-c13d-175e59932c40"
      },
      "source": [
        "%tensorflow_version 2.x\n",
        "import tensorflow as tf\n",
        "import keras\n",
        "from keras.datasets import imdb\n",
        "from keras.preprocessing import sequence\n",
        "import numpy as np\n",
        "import os\n",
        "\n",
        "\n",
        "VOCAB_SIZE = 88584\n",
        "\n",
        "MAXLEN = 250\n",
        "BATCH_SIZE = 64\n",
        "\n",
        "(train_data, train_labels), (test_data, test_labels) = imdb.load_data(num_words = VOCAB_SIZE)"
      ],
      "execution_count": null,
      "outputs": [
        {
          "output_type": "stream",
          "text": [
            "Downloading data from https://s3.amazonaws.com/text-datasets/imdb.npz\n",
            "17465344/17464789 [==============================] - 0s 0us/step\n"
          ],
          "name": "stdout"
        }
      ]
    },
    {
      "cell_type": "code",
      "metadata": {
        "id": "ERoDJ5iJ5Uhh"
      },
      "source": [
        "train_data[10]"
      ],
      "execution_count": null,
      "outputs": []
    },
    {
      "cell_type": "code",
      "metadata": {
        "id": "Bo4k4J_m52Go"
      },
      "source": [
        "train_data = sequence.pad_sequences(train_data, MAXLEN)\n",
        "test_data = sequence.pad_sequences(test_data, MAXLEN)\n"
      ],
      "execution_count": null,
      "outputs": []
    },
    {
      "cell_type": "code",
      "metadata": {
        "id": "TI6WSy176UgO"
      },
      "source": [
        "model = tf.keras.Sequential([\n",
        "                             tf.keras.layers.Embedding(VOCAB_SIZE, 32),\n",
        "                             tf.keras.layers.LSTM(32),\n",
        "                             tf.keras.layers.Dense(1, activation= 'sigmoid')\n",
        "])"
      ],
      "execution_count": null,
      "outputs": []
    },
    {
      "cell_type": "code",
      "metadata": {
        "id": "d3WWw2Mf6_-t"
      },
      "source": [
        "model.compile(loss = 'binary_crossentropy', optimizer = 'rmsprop', metrics = ['acc'])"
      ],
      "execution_count": null,
      "outputs": []
    },
    {
      "cell_type": "code",
      "metadata": {
        "id": "MUb4ZA517Utd",
        "colab": {
          "base_uri": "https://localhost:8080/",
          "height": 357
        },
        "outputId": "e37c6964-11b7-418b-c07c-8dd885d7061a"
      },
      "source": [
        "history = model.fit(train_data, train_labels, epochs = 10, validation_split= 0.2)"
      ],
      "execution_count": null,
      "outputs": [
        {
          "output_type": "stream",
          "text": [
            "Epoch 1/10\n",
            "625/625 [==============================] - 60s 96ms/step - loss: 0.4202 - acc: 0.8077 - val_loss: 0.2960 - val_acc: 0.8786\n",
            "Epoch 2/10\n",
            "625/625 [==============================] - 60s 96ms/step - loss: 0.2374 - acc: 0.9099 - val_loss: 0.2711 - val_acc: 0.8856\n",
            "Epoch 3/10\n",
            "625/625 [==============================] - 60s 96ms/step - loss: 0.1842 - acc: 0.9327 - val_loss: 0.2710 - val_acc: 0.8890\n",
            "Epoch 4/10\n",
            "625/625 [==============================] - 60s 95ms/step - loss: 0.1509 - acc: 0.9457 - val_loss: 0.2842 - val_acc: 0.8860\n",
            "Epoch 5/10\n",
            "625/625 [==============================] - 60s 97ms/step - loss: 0.1290 - acc: 0.9550 - val_loss: 0.2857 - val_acc: 0.8828\n",
            "Epoch 6/10\n",
            "625/625 [==============================] - 60s 95ms/step - loss: 0.1128 - acc: 0.9614 - val_loss: 0.3044 - val_acc: 0.8882\n",
            "Epoch 7/10\n",
            "625/625 [==============================] - 60s 96ms/step - loss: 0.1006 - acc: 0.9662 - val_loss: 0.3277 - val_acc: 0.8892\n",
            "Epoch 8/10\n",
            "625/625 [==============================] - 60s 95ms/step - loss: 0.0875 - acc: 0.9711 - val_loss: 0.3289 - val_acc: 0.8892\n",
            "Epoch 9/10\n",
            "625/625 [==============================] - 60s 96ms/step - loss: 0.0806 - acc: 0.9736 - val_loss: 0.3315 - val_acc: 0.8858\n",
            "Epoch 10/10\n",
            "625/625 [==============================] - 61s 97ms/step - loss: 0.0723 - acc: 0.9775 - val_loss: 0.3645 - val_acc: 0.8844\n"
          ],
          "name": "stdout"
        }
      ]
    },
    {
      "cell_type": "code",
      "metadata": {
        "id": "myVLaMXB8Qrg",
        "colab": {
          "base_uri": "https://localhost:8080/",
          "height": 51
        },
        "outputId": "9e9121a5-a20c-471d-b48d-ba8ab1aa3c8b"
      },
      "source": [
        "results = model.evaluate(test_data, test_labels)\n",
        "print(results)"
      ],
      "execution_count": null,
      "outputs": [
        {
          "output_type": "stream",
          "text": [
            "782/782 [==============================] - 17s 21ms/step - loss: 0.4423 - acc: 0.8553\n",
            "[0.44234809279441833, 0.8553199768066406]\n"
          ],
          "name": "stdout"
        }
      ]
    },
    {
      "cell_type": "code",
      "metadata": {
        "id": "p6u6nwNr8aH2"
      },
      "source": [
        "word_index = imdb.get_word_index()\n",
        "def encode_text(text):\n",
        "  tokens = keras.preprocessing.text.text_to_word_sequence(text)\n",
        "  tokens = [word_index[word] if word in word_index else 0 for word in tokens]\n",
        "  return sequence.pad_sequences([tokens], MAXLEN)[0]\n",
        "\n",
        "  text = 'that movie was amazing, so amazing'\n",
        "  encoded = encode_text(text)\n",
        "  print(encoded)"
      ],
      "execution_count": null,
      "outputs": []
    },
    {
      "cell_type": "code",
      "metadata": {
        "id": "UgGZEy4eEXJi",
        "colab": {
          "base_uri": "https://localhost:8080/",
          "height": 51
        },
        "outputId": "a8c3f146-05f6-4688-fafa-0a62b61d2f23"
      },
      "source": [
        "def predict(text):\n",
        "  encoded_text = encode_text(text)\n",
        "  pred = np.zeros((1,250))\n",
        "  pred[0] = encoded_text\n",
        "  result = model.predict(pred) \n",
        "  print(result[0])\n",
        "\n",
        "positive_review = \"That movie was great\"\n",
        "predict(positive_review)\n",
        "\n",
        "negative_review = \"That movie really sucked. never again\"\n",
        "predict(negative_review)\n"
      ],
      "execution_count": null,
      "outputs": [
        {
          "output_type": "stream",
          "text": [
            "[0.6744777]\n",
            "[0.7094545]\n"
          ],
          "name": "stdout"
        }
      ]
    }
  ]
}